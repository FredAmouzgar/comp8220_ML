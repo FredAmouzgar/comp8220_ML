{
  "nbformat": 4,
  "nbformat_minor": 0,
  "metadata": {
    "colab": {
      "name": "TD_Control_Methods_SARSA_Q_Learning_Solutions.ipynb",
      "provenance": [],
      "collapsed_sections": []
    },
    "kernelspec": {
      "display_name": "Python 3",
      "language": "python",
      "name": "python3"
    },
    "language_info": {
      "codemirror_mode": {
        "name": "ipython",
        "version": 3
      },
      "file_extension": ".py",
      "mimetype": "text/x-python",
      "name": "python",
      "nbconvert_exporter": "python",
      "pygments_lexer": "ipython3",
      "version": "3.8.8"
    }
  },
  "cells": [
    {
      "cell_type": "markdown",
      "metadata": {
        "id": "_2Njd49MQURU"
      },
      "source": [
        "# 1. Sarsa Algorithm and the OpenAI Gym's Taxi Environment"
      ]
    },
    {
      "cell_type": "markdown",
      "metadata": {
        "id": "5iyniLZnQqEr"
      },
      "source": [
        "## Introduction\n",
        "\n",
        "Tabular methods are suitable for small and discrete state space and discrete action space environments. So, the state-action function (Q) can be represented by a table of values. For large state space environments, we prefer to use approximation methods such as neural networks. However, the simplicity of tabular methods' implementation is helpful to demonstrate RL method's functionality. In this notebook, we train a SARSA agent for OpenAI's Taxi Gym environment ."
      ]
    },
    {
      "cell_type": "markdown",
      "metadata": {
        "id": "PCJyC-NeaJh-"
      },
      "source": [
        "## Goal\n",
        "\n",
        "In this notebook, we are going to resolve the <a href=\"https://gym.openai.com/envs/Taxi-v2/\">Taxi environment</a> (an example originally proposed by Tom Dietterich) with the SARSA and Q-Learning algorithms. Once we implement SARSA, implementing Q-Learning and many others (e.g., Expected SARSA, Double Q-learning, etc.) would be easy. We usually need to change the core update method."
      ]
    },
    {
      "cell_type": "markdown",
      "metadata": {
        "id": "YKMCFuJ_RyM8"
      },
      "source": [
        "## The Taxi Environment\n",
        "\n",
        "Here is a description of the taxi environment from the [docstring](https://github.com/openai/gym/blob/master/gym/envs/toy_text/taxi.py).\n",
        "\n",
        "The Smartcab's job is to pick up the passenger in a simplified gridworld like environment at one location and drop them off in another ([Taxi, OpenAI Gym](https://gym.openai.com/envs/Taxi-v2/)). Here are a few things that we'd love our Smartcab to take care of:\n",
        "\n",
        "- Drop off the passenger to the right location.\n",
        "- Save passenger's time by taking minimum time possible to drop off\n",
        "- Take care of passenger's safety and traffic rules\n",
        "\n",
        "<center><img style=\"align: center;\" src=\"https://raw.githubusercontent.com/FredAmouzgar/comp8220_ML/main/2021S2/images/Taxi_Env.png\" width=400></center>\n",
        "\n",
        "__State__: Let's say we have a training area for our Smartcab where we are teaching it to transport people in a parking lot to four different locations (R, G, Y, B):\n",
        "\n",
        "Let's assume Smartcab is the only vehicle in this parking lot. We can break up the parking lot into a 5x5 grid, which gives us 25 possible taxi locations. These 25 locations are one part of our state space. Notice the current location state of our taxi is coordinate (3, 1).\n",
        "\n",
        "You'll also notice there are four (4) locations that we can pick up and drop off a passenger: R, G, Y, B or `[(0,0), (0,4), (4,0), (4,3)]` in (row, col) coordinates. Our illustrated passenger is in location Y and they wish to go to location R.\n",
        "\n",
        "__Actions__: The agent is allowed to perform six possible actions:\n",
        "\n",
        "1. south\n",
        "2. north\n",
        "3. east\n",
        "4. west\n",
        "5. pickup\n",
        "6. dropoff\n",
        "\n",
        "Notice in the illustration above, that the taxi cannot perform certain actions in certain states due to walls. In environment's code, we will simply provide a -1 penalty for every wall hit and the taxi won't move anywhere. This will just rack up penalties causing the taxi to consider going around the wall."
      ]
    },
    {
      "cell_type": "markdown",
      "metadata": {
        "id": "YR1gn3zdiQWT"
      },
      "source": [
        "## Working with the OpenAI Library\n",
        "\n",
        "Here are some of OpenAI Gym's methods to initialize and interact with the environments.\n",
        "\n",
        "#### 1- Creating a new environment and assigning it to a variable\n",
        "\n",
        "```python\n",
        "# See the list of all the available environments by running this: gym.envs.registry.all()\n",
        "env = gym.make(ENV_NAME)\n",
        "```\n",
        "OR if you want to override the horizon of some of the environments and make it infinite (we need this for week 12). MountainCar's horizon is by default 200 steps.\n",
        "\n",
        "```python\n",
        "env = gym.make(ENV_NAME).env\n",
        "```\n",
        "\n",
        "#### 2- Reseting an Environment\n",
        "```python\n",
        "state = env.reset()\n",
        "```\n",
        "This will generate the first state, and can be processed by the agent.\n",
        "\n",
        "#### 3- Taking a Step\n",
        "```python\n",
        "new_state, reward, done, info = env.step(action)\n",
        "```\n",
        "The environment processes the action chosen by the agent. A tuple will be generated consisting of the new state, the received reward, the end status of the game, and some extra information.\n",
        "\n",
        "#### 4- Rendering the Environment\n",
        "\n",
        "```python\n",
        "env.render()\n",
        "```\n",
        "In Colab notebooks, this doesn't work properly. So, we provided a wrapper function called `display_status()` that makes the rendering, Colab/Jupyter friendly.\n",
        "\n",
        "#### 5- Checking out the number states and actions available in this environment:\n",
        "\n",
        "```python\n",
        "env.action_space.n  # For the Taxi environment = 6 (up, down, left, right, pickup, dropoff)\n",
        "env.observation_space.n  # For the Taxi environment = 500 (for complex environments this number is either too large or it can be practically infinite)\n",
        "```"
      ]
    },
    {
      "cell_type": "markdown",
      "metadata": {
        "id": "wfmOQaceaXW0"
      },
      "source": [
        "### Installations"
      ]
    },
    {
      "cell_type": "code",
      "metadata": {
        "id": "MO6-LNuhabtM"
      },
      "source": [
        "!pip -q install gym numpy matplotlib"
      ],
      "execution_count": 1,
      "outputs": []
    },
    {
      "cell_type": "markdown",
      "metadata": {
        "id": "7POfWCiuamR-"
      },
      "source": [
        "### Setting up the environment"
      ]
    },
    {
      "cell_type": "code",
      "metadata": {
        "colab": {
          "base_uri": "https://localhost:8080/"
        },
        "id": "hwTm5qKhapTl",
        "outputId": "3b4b2755-8627-4f87-b80a-c45d1bb03175"
      },
      "source": [
        "import gym\n",
        "\n",
        "# Finding the Taxi environment\n",
        "for env in gym.envs.registry.all():\n",
        "    if env.id.startswith(\"Taxi\"):\n",
        "        env_name = env.id\n",
        "##\n",
        "\n",
        "\n",
        "print(\"Environment Name:\", env_name)\n",
        "env = gym.make(env_name)\n",
        "env.reset()\n",
        "env.render()"
      ],
      "execution_count": 2,
      "outputs": [
        {
          "output_type": "stream",
          "text": [
            "Environment Name: Taxi-v3\n",
            "+---------+\n",
            "|\u001b[34;1mR\u001b[0m: | : :G|\n",
            "| : | : : |\n",
            "| : : : : |\n",
            "| | :\u001b[43m \u001b[0m| : |\n",
            "|Y| : |\u001b[35mB\u001b[0m: |\n",
            "+---------+\n",
            "\n"
          ],
          "name": "stdout"
        }
      ]
    },
    {
      "cell_type": "markdown",
      "metadata": {
        "id": "jY6G9AoUTGA7"
      },
      "source": [
        "## The SARSA Algorithm\n",
        "<p> </p><br>\n",
        "<center><img style=\"align: center;\" src=\"https://raw.githubusercontent.com/FredAmouzgar/comp8220_ML/main/2021S2/images/SARSA_algorithm.png\" width=900></center>"
      ]
    },
    {
      "cell_type": "code",
      "metadata": {
        "id": "p5p2m8SvQjXg"
      },
      "source": [
        "import numpy as np\n",
        "\n",
        "class Sarsa_Agent:\n",
        "    def __init__(self, states_n, actions_n, alpha=0.1, epsilon=1,\n",
        "                 epsilon_decay_factor=0.0005, epsilon_final_value=0.1,\n",
        "                 gamma=0.95, epsilon_decay=True):\n",
        "        self.alpha = alpha\n",
        "        self.epsilon = epsilon\n",
        "        self.gamma = gamma\n",
        "        self.states_n = states_n\n",
        "        self.actions_n = actions_n\n",
        "        self.all_actions = np.arange(actions_n)\n",
        "        \"\"\"\n",
        "        TODO 1:\n",
        "          - Initialize Q as a 2D numpy array representing agent's state-action value function.\n",
        "        \"\"\"\n",
        "        self.Q = np.zeros(shape=(self.states_n, self.actions_n)) # Your Code Here (1 line)\n",
        "        self.new_a = None\n",
        "        self.epsilon_decay = epsilon_decay\n",
        "        self.epsilon_decay_factor = epsilon_decay_factor\n",
        "        self.epsilon_final_value = epsilon_final_value\n",
        "\n",
        "    def act(self, state, exploration=True):\n",
        "        # epsilon greedy\n",
        "        \"\"\"\n",
        "        TODO 2: if exploration is allowed, do ε-greedy, otherwise, pick the best action\n",
        "        - For ε-greedy, generate a random number in [0,1) from a function like np.random.rand() and compare it to self.epsilon\n",
        "            - If the random number is less than ε, act randomly (pick one of the available actions in self.all_actions)\n",
        "            - Otherwise, act greedily (choose the best action in the state). You can use the np.argmax() method in this process.\n",
        "        \"\"\"\n",
        "        # Your Code Here (~ 7 lines)\n",
        "        if exploration:\n",
        "          if np.random.rand() < self.epsilon:\n",
        "            action = np.random.choice(self.all_actions)\n",
        "          else:\n",
        "            action = np.argmax(self.Q[state, :])\n",
        "        else:\n",
        "          action = np.argmax(self.Q[state, :])\n",
        "        return action\n",
        "\n",
        "    def decay_epsilon(self):\n",
        "        \"\"\"\n",
        "        Todo 3:\n",
        "            - If self.epsilon is larger than our final value, subtract it from the decay_factor (find these variables in the __init__ method).\n",
        "            - Otherwise, set it to the final value intended for ε.\n",
        "        \"\"\"\n",
        "        # Your Code Here (~ 4 lines)\n",
        "        if self.epsilon > self.epsilon_final_value:\n",
        "          self.epsilon -= self.epsilon_decay_factor\n",
        "        else:\n",
        "          self.epsilon = self.epsilon_final_value\n",
        "          \n",
        "    def update(self, new_s, r, s, a, done):\n",
        "        \"\"\"\n",
        "        TODO 4: After each timestep we update the agent using the SARSA update rule\n",
        "            1- Take a new action and save it in the self.new_a variable, as we need it to update our Q function.\n",
        "            2- Make sure all the elements (s, a, self.new_a, new_s) are integer, if not cast them with int()\n",
        "            3- Update Q(s, a) with the SARSA update rule (Q(s,a) = Q(s,a) + α (r + γ Q(s',a') - Q(s,a)))\n",
        "            3'- Take care of the update rule for the terminal state (max(Q(s',:)) is zero: Q(s,a) = Q(s,a) + α (r - Q(s,a)))\n",
        "            4- If done is True, decay the epsilon with the decay_epsilon method\n",
        "            5- Return the new action\n",
        "        \"\"\"\n",
        "        # Your Code Here\n",
        "        self.new_a = self.act(new_s)\n",
        "        s, a, self.new_a, new_s = int(s), int(a), int(self.new_a), int(new_s)\n",
        "        self.Q[s,a] += self.alpha * (r + self.gamma * (1 - int(done)) * self.Q[new_s, self.new_a] - self.Q[s, a])\n",
        "        if done:\n",
        "          self.decay_epsilon()\n",
        "        return self.new_a # Your Code Here"
      ],
      "execution_count": 3,
      "outputs": []
    },
    {
      "cell_type": "markdown",
      "metadata": {
        "id": "7oT_Bi-uVREV"
      },
      "source": [
        "## Util functions"
      ]
    },
    {
      "cell_type": "code",
      "metadata": {
        "id": "3Ex2SGkOVUh1"
      },
      "source": [
        "# Utils - PLEASE DO NOT MODIFY THIS CELL\n",
        "from time import sleep\n",
        "\n",
        "def display_status(episode, return_episode, epsilon, stime, returns, avg_returns):\n",
        "    \"\"\"\n",
        "    A helper function for displaying agent's behavior\n",
        "    \"\"\"\n",
        "    clear_output(wait=True)\n",
        "    etime = time()\n",
        "    fig, axes = plt.subplots(nrows=1, ncols=1, figsize=(10,10))\n",
        "    axes.set_title(\"Episode:\" + str(episode) + \" - Return:\"+str(return_episode)\\\n",
        "              + \" - Epsilon:\" + str(epsilon)[:5] + \" - elapsed time: \" + str(etime - stime)[:4])\n",
        "    axes.set_xlabel(\"Episode\")\n",
        "    axes.set_ylabel(\"Returns (sum of rewards in each episode)\")\n",
        "    axes.plot(list(range(len(returns))),returns)\n",
        "    axes.plot(list(range(len(returns))),avg_returns, linewidth=3)\n",
        "    axes.legend([\"Returns\", \"Average Returns\"])\n",
        "    plt.show()\n",
        "    \n",
        "def taxi_print_frames(frames, wait_btw_frames, episode):\n",
        "    for i, frame in enumerate(frames):\n",
        "        clear_output(wait=True)\n",
        "        print(frame['frame'])\n",
        "        print(f\"Passenger #: {episode + 1}\")\n",
        "        print(\"-----------\")\n",
        "        print(f\"Timestep: {i + 1}\")\n",
        "        print(f\"State: {frame['state']}\")\n",
        "        print(f\"Action: {frame['action']}\")\n",
        "        print(f\"Reward: {frame['reward']}\")\n",
        "        sleep(wait_btw_frames)\n",
        "        \n",
        "def play_taxi(env, agent, passengers=2, wait_btw_frames=1, tolerance=20):\n",
        "    for episode in range(passengers):\n",
        "        state = env.reset()\n",
        "        frames = []\n",
        "        done = False\n",
        "        step = 0\n",
        "        while not done:\n",
        "            action = agent.act(state, exploration=False)\n",
        "            new_state, reward, done, _ = env.step(action)\n",
        "            frames.append({\n",
        "                'frame': env.render(mode='ansi'),\n",
        "                'state': state,\n",
        "                'action': action,\n",
        "                'reward': reward\n",
        "            })\n",
        "            step += 1\n",
        "            state = new_state\n",
        "            if step >= tolerance:\n",
        "                print(f\"No Done in {step} steps.\")\n",
        "                break\n",
        "        taxi_print_frames(frames, wait_btw_frames=wait_btw_frames, episode=episode)"
      ],
      "execution_count": 4,
      "outputs": []
    },
    {
      "cell_type": "markdown",
      "metadata": {
        "id": "gUfARjOAdkBy"
      },
      "source": [
        "## The Train Loop\n",
        "<p> </p><br>\n",
        "<center><img style=\"align: center;\" src=\"https://raw.githubusercontent.com/FredAmouzgar/comp8220_ML/main/2021S2/images/MDP_loop.jpeg\" width=900></center>"
      ]
    },
    {
      "cell_type": "code",
      "metadata": {
        "id": "0Jhn1v83ZguP"
      },
      "source": [
        "# Making sure we know our Taxi environment version\n",
        "for env in gym.envs.registry.all():\n",
        "    if env.id.startswith(\"Taxi\"):\n",
        "        env_name = env.id\n",
        "##"
      ],
      "execution_count": 5,
      "outputs": []
    },
    {
      "cell_type": "code",
      "metadata": {
        "colab": {
          "base_uri": "https://localhost:8080/",
          "height": 621
        },
        "id": "jMDBL2lpRHCT",
        "outputId": "081fc3f3-0616-4e56-d984-35935ead09d9"
      },
      "source": [
        "import matplotlib.pyplot as plt\n",
        "from IPython.display import clear_output\n",
        "from time import time\n",
        "\n",
        "env = gym.make(env_name) # Creating the environment\n",
        "agent = Sarsa_Agent(env.observation_space.n, env.action_space.n) # Initializing the agent\n",
        "EPISODES = 3000 # Training the agent for 3000 episodes\n",
        "DISPLAY_RESULTS_INTERVAL = 10\n",
        "\n",
        "returns = []\n",
        "avg_returns = []\n",
        "stime = time()\n",
        "\n",
        "for episode in range(EPISODES):\n",
        "    state = env.reset()\n",
        "    action = agent.act(state)\n",
        "    done = False\n",
        "    step_n = 0\n",
        "    return_episode = 0\n",
        "    while not done:\n",
        "        \"\"\"\n",
        "        TODO 5:\n",
        "        1- Take a step in the environment using the \"action\" variable and the step method from the env variable -> env.step(action)\n",
        "        2- The step method returns a tuple consists of the new state, reward, done and info. Save them in separate variables.\n",
        "        3- Add the reward we got as a result of the action to the return_episode variable.\n",
        "        4- Update the agent with the right parameters.\n",
        "        5- The update method returns the new action save it in the new_action varible.\n",
        "        \"\"\"\n",
        "        # Your Code Here\n",
        "        new_state, reward, done, info = env.step(action)\n",
        "        return_episode += reward\n",
        "        new_action = agent.update(new_state, reward, state, action, done)\n",
        "\n",
        "        state, action = new_state, new_action\n",
        "        step_n += 1\n",
        "        if done:\n",
        "            returns.append(return_episode)\n",
        "            avg = (sum(returns[-100:]) / 100) if len(returns) > 100 else (sum(returns[-len(returns):]) / len(returns))\n",
        "            avg_returns.append(avg)\n",
        "            if episode % DISPLAY_RESULTS_INTERVAL == 0:\n",
        "                display_status(episode, return_episode, agent.epsilon, stime, returns, avg_returns)\n",
        "            clear_output(wait=True)"
      ],
      "execution_count": 6,
      "outputs": [
        {
          "output_type": "display_data",
          "data": {
            "image/png": "[encoded data removed]",
            "text/plain": [
              "<Figure size 720x720 with 1 Axes>"
            ]
          },
          "metadata": {
            "needs_background": "light"
          }
        }
      ]
    },
    {
      "cell_type": "markdown",
      "metadata": {
        "id": "QfgjuPgHn2hX"
      },
      "source": [
        "## Watch a smart SARSA self-driving cab:\n",
        "Note: You can change the number of `passengers` if you want to move more than 3. Change the `wait_btw_frames` if you want to see the game running faster or slower."
      ]
    },
    {
      "cell_type": "code",
      "metadata": {
        "colab": {
          "base_uri": "https://localhost:8080/"
        },
        "id": "SwEgaVjGc9Pc",
        "outputId": "748919f3-2b06-4a9f-dc4f-69b1373e80f9"
      },
      "source": [
        "play_taxi(env, agent, passengers=3, wait_btw_frames=1)"
      ],
      "execution_count": 7,
      "outputs": [
        {
          "output_type": "stream",
          "text": [
            "+---------+\n",
            "|R: | : :G|\n",
            "| : | : : |\n",
            "| : : : : |\n",
            "| | : | : |\n",
            "|\u001b[35m\u001b[34;1m\u001b[43mY\u001b[0m\u001b[0m\u001b[0m| : |B: |\n",
            "+---------+\n",
            "  (Dropoff)\n",
            "\n",
            "Passenger #: 3\n",
            "-----------\n",
            "Timestep: 14\n",
            "State: 418\n",
            "Action: 5\n",
            "Reward: 20\n"
          ],
          "name": "stdout"
        }
      ]
    },
    {
      "cell_type": "markdown",
      "metadata": {
        "id": "yE8YbbfHij2A"
      },
      "source": [
        "# 2. Q-Learning Algorithm and the OpenAI Gym's Taxi Environment"
      ]
    },
    {
      "cell_type": "markdown",
      "metadata": {
        "id": "Pr0F8oe1iqQf"
      },
      "source": [
        "## The Q-Learning Algorithm\n",
        "<p> </p><br>\n",
        "<center><img style=\"align: center;\" src=\"https://raw.githubusercontent.com/FredAmouzgar/comp8220_ML/main/2021S2/images/qlearning.png\" width=900></center>"
      ]
    },
    {
      "cell_type": "code",
      "metadata": {
        "id": "KA65YMrGiyC4"
      },
      "source": [
        "import numpy as np\n",
        "\n",
        "class Qlearning_Agent:\n",
        "    def __init__(self, states_n, actions_n, alpha=0.1, epsilon=1,\n",
        "                 epsilon_decay_factor=0.0005, epsilon_final_value=0.1,\n",
        "                 gamma=0.95, epsilon_decay=True):\n",
        "        self.alpha = alpha\n",
        "        self.epsilon = epsilon\n",
        "        self.gamma = gamma\n",
        "        self.states_n = states_n\n",
        "        self.actions_n = actions_n\n",
        "        self.all_actions = np.arange(actions_n)\n",
        "        \"\"\"\n",
        "        TODO 6:\n",
        "          - Initialize Q as a 2D numpy array representing agent's state-action value function.\n",
        "        \"\"\"\n",
        "        self.Q = np.zeros(shape=(self.states_n, self.actions_n)) # Your Code Here\n",
        "        #self.new_a = None\n",
        "        self.epsilon_decay = epsilon_decay\n",
        "        self.epsilon_decay_factor = epsilon_decay_factor\n",
        "        self.epsilon_final_value = epsilon_final_value\n",
        "\n",
        "    def act(self, state, exploration=True):\n",
        "        # epsilon greedy\n",
        "        \"\"\"\n",
        "        TODO 7: if exploration is allowed, do ε-greedy, otherwise, pick the best action\n",
        "        - For ε-greedy, generate a random number in [0,1) from a function like np.random.rand() and compare it to self.epsilon\n",
        "            - If the random number is less than ε, act randomly (pick one of the available actions in self.all_actions)\n",
        "            - Otherwise, act greedily (choose the best action in the state). You can use the np.argmax() method in this process.\n",
        "        \"\"\"\n",
        "        # Your Code Here (~ 7 lines)\n",
        "        if exploration:\n",
        "          if np.random.rand() < self.epsilon:\n",
        "            action = np.random.choice(self.all_actions)\n",
        "          else:\n",
        "            action = np.argmax(self.Q[state, :])\n",
        "        else:\n",
        "          action = np.argmax(self.Q[state, :])\n",
        "        return action\n",
        "\n",
        "    def decay_epsilon(self):\n",
        "        \"\"\"\n",
        "        Todo 8:\n",
        "            - If self.epsilon is larger than our final value, subtract it from the decay_factor (find these variables in the __init__ method).\n",
        "            - Otherwise, set it to the final value intended for ε.\n",
        "        \"\"\"\n",
        "        # Your Code Here (~ 4 lines)\n",
        "        if self.epsilon > self.epsilon_final_value:\n",
        "          self.epsilon -= self.epsilon_decay_factor\n",
        "        else:\n",
        "          self.epsilon = self.epsilon_final_value\n",
        "          \n",
        "\n",
        "    def update(self, new_s, r, s, a, done):\n",
        "        \"\"\"\n",
        "        *TODO 9: *** DIFFERENT FROM SARSA ***\n",
        "          After each timestep we update the agent using the Q-learning update rule\n",
        "            1- Make sure all the elements (s, a, self.new_a, new_s) are integer, if not cast them with int()\n",
        "            3- Update Q(s, a) with the Q-learning update rule (Q(s,a) = Q(s,a) + α (r + γ max Q(s',:) - Q(s,a)))\n",
        "            3'- Take care of the update rule for the terminal state (max(Q(s',:)) is zero: Q(s,a) = Q(s,a) + α (r - Q(s,a)))\n",
        "            4- If done is True, decay the epsilon with the decay_epsilon method\n",
        "            5- It DOES NOT return anything (like a new action). \n",
        "        \"\"\"\n",
        "        # Your Code Here\n",
        "        s, a, new_s = int(s), int(a), int(new_s)\n",
        "        self.Q[s, a] += self.alpha * (r + self.gamma * (1 - int(done)) * np.max(self.Q[new_s,:]) - self.Q[s, a])\n",
        "        if done:\n",
        "          self.decay_epsilon()"
      ],
      "execution_count": 8,
      "outputs": []
    },
    {
      "cell_type": "markdown",
      "metadata": {
        "id": "a1wuRn9Miuoo"
      },
      "source": [
        "## The Train Loop"
      ]
    },
    {
      "cell_type": "code",
      "metadata": {
        "colab": {
          "base_uri": "https://localhost:8080/",
          "height": 621
        },
        "id": "UuUwSGNniyzO",
        "outputId": "b95c6ff0-b2f5-4909-b8fb-bff3a9474f3d"
      },
      "source": [
        "import matplotlib.pyplot as plt\n",
        "from IPython.display import clear_output\n",
        "from time import time\n",
        "\n",
        "env = gym.make(env_name) # Creating the environment\n",
        "agent = Qlearning_Agent(env.observation_space.n, env.action_space.n) # Initializing the agent\n",
        "EPISODES = 3000 # Training the agent for 3000 episodes\n",
        "DISPLAY_RESULTS_INTERVAL = 10\n",
        "\n",
        "returns = []\n",
        "avg_returns = []\n",
        "stime = time()\n",
        "\n",
        "for episode in range(EPISODES):\n",
        "    state = env.reset()\n",
        "    done = False\n",
        "    step_n = 0\n",
        "    return_episode = 0\n",
        "    while not done:\n",
        "        \"\"\"\n",
        "        TODO 10:\n",
        "        1- Take an action using agent's act method and save it.\n",
        "        2- Take a step in the environment using the action variable and the step method from the env variable.\n",
        "        3- The step method returns a tuple consists of the new state, reward, done and info. Save them in separate variables.\n",
        "        4- Add the reward we got as a result of the action to the return_episode variable.\n",
        "        5- Update the agent with the right parameters.\n",
        "        \"\"\"\n",
        "        # Your Code Here\n",
        "        action = agent.act(state)\n",
        "        new_state, reward, done, info = env.step(action)\n",
        "        return_episode += reward\n",
        "        new_action = agent.update(new_state, reward, state, action, done)\n",
        "        \n",
        "        state = new_state\n",
        "        step_n += 1\n",
        "        if done:\n",
        "            returns.append(return_episode)\n",
        "            avg = (sum(returns[-100:]) / 100) if len(returns) > 100 else (sum(returns[-len(returns):]) / len(returns))\n",
        "            avg_returns.append(avg)\n",
        "            if episode % DISPLAY_RESULTS_INTERVAL == 0:\n",
        "                display_status(episode, return_episode, agent.epsilon, stime, returns, avg_returns)\n",
        "            clear_output(wait=True)"
      ],
      "execution_count": 9,
      "outputs": [
        {
          "output_type": "display_data",
          "data": {
            "image/png": "[encoded data removed]",
            "text/plain": [
              "<Figure size 720x720 with 1 Axes>"
            ]
          },
          "metadata": {
            "needs_background": "light"
          }
        }
      ]
    },
    {
      "cell_type": "markdown",
      "metadata": {
        "id": "M1cWW9bSoZKz"
      },
      "source": [
        "## Watch a smart Q-Learning self-driving cab:\n",
        "Note: You can change the number of `passengers` if you want to move more than 3. Change the `wait_btw_frames` if you want to see the game running faster or slower."
      ]
    },
    {
      "cell_type": "code",
      "metadata": {
        "colab": {
          "base_uri": "https://localhost:8080/"
        },
        "id": "5s3WvmkXoJhN",
        "outputId": "c9eddee3-1caa-446b-f3ca-be74b03dd646"
      },
      "source": [
        "play_taxi(env, agent, passengers=3, wait_btw_frames=1)"
      ],
      "execution_count": 10,
      "outputs": [
        {
          "output_type": "stream",
          "text": [
            "+---------+\n",
            "|R: | : :G|\n",
            "| : | : : |\n",
            "| : : : : |\n",
            "| | : | : |\n",
            "|\u001b[35m\u001b[34;1m\u001b[43mY\u001b[0m\u001b[0m\u001b[0m| : |B: |\n",
            "+---------+\n",
            "  (Dropoff)\n",
            "\n",
            "Passenger #: 3\n",
            "-----------\n",
            "Timestep: 13\n",
            "State: 418\n",
            "Action: 5\n",
            "Reward: 20\n"
          ],
          "name": "stdout"
        }
      ]
    },
    {
      "cell_type": "markdown",
      "metadata": {
        "id": "-Xdg580We0cq"
      },
      "source": [
        "# How the learning happened?\n",
        "\n",
        "The Sarsa and Q-Learning agents are implementing a __tabular method__ which means that they're updating a table of values iteratively. As said before, this table is called Q-table. After the training, the agent knows exactly which actions are the best in almost all possible states.\n",
        "\n",
        "In __Approximation methods__ and __Deep Reinforcement Learning__, this table is replaced by a linear model or a [neural network](https://www.nature.com/articles/nature14236). A well-designed network can learn much more complex tasks, generalizes, and thus responds better to unseen situations.\n",
        "\n",
        "__Take a look at the Pigoen Pong Experiment__ (special thanks go to <a href=\"https://complexity-in-action.github.io/people/patricknalepka.html\">Dr. Patrick Nalepka</a>): Artificial agents follow the same process. __We'll show an agent with neural network on week 12.__"
      ]
    },
    {
      "cell_type": "code",
      "metadata": {
        "colab": {
          "base_uri": "https://localhost:8080/",
          "height": 336
        },
        "id": "9l-QACZIeY5R",
        "outputId": "66ec4d1d-ff41-4c52-f8b3-dbd1bf7c54dd"
      },
      "source": [
        "from IPython.display import HTML\n",
        "HTML('<iframe width=\"560\" height=\"315\" src=\"https://www.youtube-nocookie.com/embed/vGazyH6fQQ4\" frameborder=\"0\" allow=\"accelerometer; autoplay; clipboard-write; encrypted-media; gyroscope; picture-in-picture\" allowfullscreen></iframe>')"
      ],
      "execution_count": 11,
      "outputs": [
        {
          "output_type": "execute_result",
          "data": {
            "text/html": [
              "<iframe width=\"560\" height=\"315\" src=\"https://www.youtube-nocookie.com/embed/vGazyH6fQQ4\" frameborder=\"0\" allow=\"accelerometer; autoplay; clipboard-write; encrypted-media; gyroscope; picture-in-picture\" allowfullscreen></iframe>"
            ],
            "text/plain": [
              "<IPython.core.display.HTML object>"
            ]
          },
          "metadata": {},
          "execution_count": 11
        }
      ]
    },
    {
      "cell_type": "markdown",
      "metadata": {
        "id": "pIoAhI11rQwi"
      },
      "source": [
        "<img style=\"align: center;\" src=\"https://github.com/FredAmouzgar/comp8220_ML_2021S1/raw/main/images/pong.gif\" width=200>"
      ]
    },
    {
      "cell_type": "markdown",
      "metadata": {
        "id": "pwmGp2IWpnG9"
      },
      "source": [
        "# More Questions:\n",
        "\n",
        "Q1: Compare the performance of SARSA and the Q-learning algorithms. Which one outperforms the other? Can you think of a reason for this difference?\n",
        "\n",
        "## Extra Questions (do them in your own time)\n",
        "\n",
        "*Q2 (programming): Study the Expected SARSA algorithm \\[[Sutton2018, 6.6](http://incompleteideas.net/book/the-book-2nd.html)\\], implement it and compare its performance in the Taxi environment with SARSA and Q-Learning.\n",
        "\n",
        "*Q3 (programming): Study the doube Q-learning algorithm \\[[Sutton2018, 6.7](http://incompleteideas.net/book/the-book-2nd.html)\\], implement it and compare its performance in the Taxi environment with SARSA, Q-Learning and Expected SARSA.\n",
        "\n",
        "<font size=\"1px\">* = harder questions</font>"
      ]
    },
    {
      "cell_type": "markdown",
      "metadata": {
        "id": "WGoPr0V0eb1i"
      },
      "source": [
        "<font size=\"1px\"><a href=\"https://www.linkedin.com/in/fredamouzgar/\">Fred A.</a> Aug/2021</font>"
      ]
    },
    {
      "cell_type": "markdown",
      "metadata": {
        "id": "NOTV3as-iQWc"
      },
      "source": [
        "<hr>"
      ]
    }
  ]
}